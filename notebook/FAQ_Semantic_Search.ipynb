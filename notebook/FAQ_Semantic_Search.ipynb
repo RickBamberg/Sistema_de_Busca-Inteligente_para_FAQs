{
 "cells": [
  {
   "cell_type": "markdown",
   "id": "f8a85b87-0cee-4cc8-b1d0-5ebedd6a73d0",
   "metadata": {},
   "source": [
    "## Sistema Inteligente para FAQs"
   ]
  },
  {
   "cell_type": "markdown",
   "id": "e5cc4eb7-a42e-4bad-ab9b-891bc54279b8",
   "metadata": {},
   "source": [
    "### Importa Bibliotecas"
   ]
  },
  {
   "cell_type": "code",
   "execution_count": 4,
   "id": "a83dacf5-e6c5-47a8-b072-215a81f7c5b3",
   "metadata": {},
   "outputs": [],
   "source": [
    "import pandas as pd\n",
    "import json\n",
    "from bs4 import BeautifulSoup\n",
    "from sentence_transformers import SentenceTransformer\n",
    "import numpy as np\n",
    "import pickle\n",
    "import os"
   ]
  },
  {
   "cell_type": "markdown",
   "id": "588336f1-d155-45bf-8ada-151e8adcda76",
   "metadata": {},
   "source": [
    "### Carregar e limpar o Dataset de FAQ"
   ]
  },
  {
   "cell_type": "code",
   "execution_count": 5,
   "id": "4c4ccdca-5ef7-4c2b-b63a-057f98a911a1",
   "metadata": {},
   "outputs": [
    {
     "name": "stdout",
     "output_type": "stream",
     "text": [
      "Iniciando o carregamento e limpeza do FAQ...\n",
      "\n",
      "✅ Limpeza concluída com sucesso!\n",
      "Total de pares de Pergunta/Resposta limpos: 1172\n",
      "\n",
      "Informações do DataFrame final:\n",
      "<class 'pandas.core.frame.DataFrame'>\n",
      "RangeIndex: 1172 entries, 0 to 1171\n",
      "Data columns (total 2 columns):\n",
      " #   Column    Non-Null Count  Dtype \n",
      "---  ------    --------------  ----- \n",
      " 0   pergunta  1172 non-null   object\n",
      " 1   resposta  1172 non-null   object\n",
      "dtypes: object(2)\n",
      "memory usage: 18.4+ KB\n",
      "\n",
      "Exemplo dos dados após a limpeza:\n",
      "                                            pergunta  \\\n",
      "0                                O que é Registrato?   \n",
      "1             Quais são os relatórios do Registrato?   \n",
      "2  Os relatórios do Registrato são atualizados at...   \n",
      "3  Recebi um relatório do Registrato incorreto, c...   \n",
      "4                          Como acesso o Registrato?   \n",
      "\n",
      "                                            resposta  \n",
      "0  O Registrato é um sistema onde você pode consu...  \n",
      "1  Relatório de Chaves Pix, Relatório de Emprésti...  \n",
      "2  Cada relatório do Registrato tem um prazo de a...  \n",
      "3  Se tem alguma informação que você não concorda...  \n",
      "4  Para acessar o Registrato e ver seus relatório...  \n"
     ]
    }
   ],
   "source": [
    "print(\"Iniciando o carregamento e limpeza do FAQ...\")\n",
    "\n",
    "# Define o caminho para o arquivo JSON\n",
    "arquivo_json = '..\\data\\FAQ_BB.json'\n",
    "\n",
    "try:\n",
    "    # --- 1.1 Carregando o arquivo JSON ---\n",
    "    with open(arquivo_json, 'r', encoding='utf-8') as f:\n",
    "        dados_json = json.load(f)\n",
    "\n",
    "    # O conteúdo está dentro da chave \"conteudo\"\n",
    "    df = pd.DataFrame(dados_json['conteudo'])\n",
    "\n",
    "    # --- 1.2 Limpando as respostas (removendo HTML) ---\n",
    "    \n",
    "    # Função para extrair texto puro do HTML\n",
    "    def limpar_html(texto_html):\n",
    "        if not isinstance(texto_html, str):\n",
    "            return \"\"  # Retorna string vazia se o valor não for texto\n",
    "        # Usa BeautifulSoup para analisar o HTML e extrair o texto\n",
    "        soup = BeautifulSoup(texto_html, \"html.parser\")\n",
    "        return soup.get_text(separator=' ', strip=True)\n",
    "\n",
    "    # Aplica a função de limpeza na coluna 'resposta' para criar uma nova coluna limpa\n",
    "    df['resposta_limpa'] = df['resposta'].apply(limpar_html)\n",
    "    \n",
    "    # --- 1.3 Criando o DataFrame Final ---\n",
    "    \n",
    "    # Seleciona apenas as colunas que importam e remove linhas onde a pergunta ou resposta possam estar vazias\n",
    "    df_faq_limpo = df[['pergunta', 'resposta_limpa']].copy()\n",
    "    df_faq_limpo.dropna(inplace=True)\n",
    "    df_faq_limpo = df_faq_limpo[df_faq_limpo['pergunta'] != '']\n",
    "\n",
    "    # Renomeia a coluna de resposta limpa para um nome mais simples\n",
    "    df_faq_limpo.rename(columns={'resposta_limpa': 'resposta'}, inplace=True)\n",
    "    \n",
    "    print(\"\\n✅ Limpeza concluída com sucesso!\")\n",
    "    print(f\"Total de pares de Pergunta/Resposta limpos: {len(df_faq_limpo)}\")\n",
    "    \n",
    "    print(\"\\nInformações do DataFrame final:\")\n",
    "    df_faq_limpo.info()\n",
    "\n",
    "    print(\"\\nExemplo dos dados após a limpeza:\")\n",
    "    print(df_faq_limpo.head())\n",
    "    \n",
    "except FileNotFoundError:\n",
    "    print(f\"❌ ERRO: O arquivo '{arquivo_json}' não foi encontrado. Verifique o caminho.\")\n",
    "except Exception as e:\n",
    "    print(f\"❌ Ocorreu um erro inesperado: {e}\")"
   ]
  },
  {
   "cell_type": "markdown",
   "id": "a5d31d5f-18f8-440a-98cf-5626cad93bb4",
   "metadata": {},
   "source": [
    "### Vetorização da Base de Conhecimento "
   ]
  },
  {
   "cell_type": "code",
   "execution_count": 6,
   "id": "fd7bd31c-cde9-4654-9a29-c9b7f2724f97",
   "metadata": {},
   "outputs": [
    {
     "name": "stdout",
     "output_type": "stream",
     "text": [
      "\n",
      "--- Iniciando a vetorização das perguntas ---\n",
      "✅ Modelo SentenceTransformer carregado com sucesso.\n",
      "\n",
      "Gerando embeddings para as perguntas... (Isso pode levar alguns minutos)\n"
     ]
    },
    {
     "name": "stderr",
     "output_type": "stream",
     "text": [
      "Batches: 100%|█████████████████████████████████████████████████████████████████████████| 37/37 [00:35<00:00,  1.06it/s]"
     ]
    },
    {
     "name": "stdout",
     "output_type": "stream",
     "text": [
      "✅ Embeddings gerados com sucesso!\n",
      "Formato da matriz de embeddings: (1172, 512)\n",
      "\n",
      "✅ Artefatos salvos com sucesso na pasta '..\\models'\n"
     ]
    },
    {
     "name": "stderr",
     "output_type": "stream",
     "text": [
      "\n"
     ]
    }
   ],
   "source": [
    "print(\"\\n--- Iniciando a vetorização das perguntas ---\")\n",
    "\n",
    "# --- 2.1 Carregando o modelo pré-treinado ---\n",
    "# Este modelo é ótimo para português e transforma sentenças em vetores de 768 dimensões.\n",
    "try:\n",
    "    model = SentenceTransformer('distiluse-base-multilingual-cased-v1')\n",
    "    print(\"✅ Modelo SentenceTransformer carregado com sucesso.\")\n",
    "except Exception as e:\n",
    "    print(f\"❌ ERRO ao carregar o modelo SentenceTransformer: {e}\")\n",
    "\n",
    "# --- 2.2 Convertendo as perguntas em vetores (embeddings) ---\n",
    "# Pega a lista de perguntas do nosso dataframe limpo\n",
    "perguntas = df_faq_limpo['pergunta'].tolist()\n",
    "\n",
    "print(\"\\nGerando embeddings para as perguntas... (Isso pode levar alguns minutos)\")\n",
    "embeddings_perguntas = model.encode(perguntas, show_progress_bar=True)\n",
    "print(\"✅ Embeddings gerados com sucesso!\")\n",
    "print(f\"Formato da matriz de embeddings: {embeddings_perguntas.shape}\")\n",
    "\n",
    "# --- 2.3 Salvando os artefatos para a aplicação Flask ---\n",
    "# Vamos criar uma pasta 'models' para guardar nossos arquivos\n",
    "ARTEFATOS_DIR = '..\\models'\n",
    "if not os.path.exists(ARTEFATOS_DIR):\n",
    "    os.makedirs(ARTEFATOS_DIR)\n",
    "\n",
    "# Salva a matriz de embeddings\n",
    "np.save(os.path.join(ARTEFATOS_DIR, 'embeddings_faq.npy'), embeddings_perguntas)\n",
    "\n",
    "# Salva a lista de perguntas e respostas para consulta futura\n",
    "with open(os.path.join(ARTEFATOS_DIR, 'dados_faq.pkl'), 'wb') as f:\n",
    "    pickle.dump({\n",
    "        'perguntas': perguntas,\n",
    "        'respostas': df_faq_limpo['resposta'].tolist()\n",
    "    }, f)\n",
    "\n",
    "print(f\"\\n✅ Artefatos salvos com sucesso na pasta '{ARTEFATOS_DIR}'\")"
   ]
  },
  {
   "cell_type": "code",
   "execution_count": null,
   "id": "d90850f8-6f6e-470d-a1b8-41bd9550d85f",
   "metadata": {},
   "outputs": [],
   "source": []
  }
 ],
 "metadata": {
  "kernelspec": {
   "display_name": "Python (faq_env)",
   "language": "python",
   "name": "faq_env"
  },
  "language_info": {
   "codemirror_mode": {
    "name": "ipython",
    "version": 3
   },
   "file_extension": ".py",
   "mimetype": "text/x-python",
   "name": "python",
   "nbconvert_exporter": "python",
   "pygments_lexer": "ipython3",
   "version": "3.9.23"
  }
 },
 "nbformat": 4,
 "nbformat_minor": 5
}
